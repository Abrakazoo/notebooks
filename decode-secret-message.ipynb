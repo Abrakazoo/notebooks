{
 "cells": [
  {
   "cell_type": "markdown",
   "id": "a643ed6d",
   "metadata": {},
   "source": [
    "**Problem**\n",
    "\n",
    "You are given a Google Doc like [this one](https://docs.google.com/document/d/e/2PACX-1vRMx5YQlZNa3ra8dYYxmv-QIQ3YJe8tbI3kqcuC7lQiZm-CSEznKfN_HYNSpoXcZIV3Y_O3YoUB1ecq/pub) that contains a list of Unicode characters and their positions in a 2D grid. Your task is to write a function that takes in the URL for such a Google Doc as an argument, retrieves and parses the data in the document, and prints the grid of characters. When printed in a fixed-width font, the characters in the grid will form a graphic showing a sequence of uppercase letters, which is the secret message.\n",
    "\n",
    "- The document specifies the Unicode characters in the grid, along with the x- and y-coordinates of each character.\n",
    "\n",
    "- The minimum possible value of these coordinates is 0. There is no maximum possible value, so the grid can be arbitrarily large.\n",
    "\n",
    "- Any positions in the grid that do not have a specified character should be filled with a space character.\n",
    "\n",
    "- You can assume the document will always have the same format as the example document linked above.\n",
    "\n",
    "For example, the simplified example document linked above draws out the letter 'F':\n",
    "\n",
    "█▀▀▀\n",
    "\n",
    "█▀▀\n",
    "\n",
    "█   \n",
    "*Note that the coordinates (0, 0) will always correspond to the same corner of the grid as in this example, so make sure to understand in which directions the x- and y-coordinates increase.*\n",
    "\n",
    "**Specifications**\n",
    "\n",
    "- Your code must be written in Python (preferred) or JavaScript.\n",
    "\n",
    "- You may use external libraries.\n",
    "\n",
    "- You may write helper functions, but there should be one function that:\n",
    "\n",
    "  1. Takes in one argument, which is a string containing the URL for the Google Doc with the input data, AND\n",
    "\n",
    "  2. When called, prints the grid of characters specified by the input data, displaying a graphic of correctly oriented uppercase letters."
   ]
  },
  {
   "cell_type": "code",
   "execution_count": 2,
   "id": "1a1a965d",
   "metadata": {},
   "outputs": [
    {
     "data": {
      "text/html": [
       "<div>\n",
       "<style scoped>\n",
       "    .dataframe tbody tr th:only-of-type {\n",
       "        vertical-align: middle;\n",
       "    }\n",
       "\n",
       "    .dataframe tbody tr th {\n",
       "        vertical-align: top;\n",
       "    }\n",
       "\n",
       "    .dataframe thead th {\n",
       "        text-align: right;\n",
       "    }\n",
       "</style>\n",
       "<table border=\"1\" class=\"dataframe\">\n",
       "  <thead>\n",
       "    <tr style=\"text-align: right;\">\n",
       "      <th></th>\n",
       "      <th>x-coordinate</th>\n",
       "      <th>Character</th>\n",
       "      <th>y-coordinate</th>\n",
       "    </tr>\n",
       "  </thead>\n",
       "  <tbody>\n",
       "    <tr>\n",
       "      <th>0</th>\n",
       "      <td>0</td>\n",
       "      <td>█</td>\n",
       "      <td>0</td>\n",
       "    </tr>\n",
       "    <tr>\n",
       "      <th>1</th>\n",
       "      <td>0</td>\n",
       "      <td>█</td>\n",
       "      <td>1</td>\n",
       "    </tr>\n",
       "    <tr>\n",
       "      <th>2</th>\n",
       "      <td>0</td>\n",
       "      <td>█</td>\n",
       "      <td>2</td>\n",
       "    </tr>\n",
       "    <tr>\n",
       "      <th>3</th>\n",
       "      <td>1</td>\n",
       "      <td>▀</td>\n",
       "      <td>1</td>\n",
       "    </tr>\n",
       "    <tr>\n",
       "      <th>4</th>\n",
       "      <td>1</td>\n",
       "      <td>▀</td>\n",
       "      <td>2</td>\n",
       "    </tr>\n",
       "    <tr>\n",
       "      <th>5</th>\n",
       "      <td>2</td>\n",
       "      <td>▀</td>\n",
       "      <td>1</td>\n",
       "    </tr>\n",
       "    <tr>\n",
       "      <th>6</th>\n",
       "      <td>2</td>\n",
       "      <td>▀</td>\n",
       "      <td>2</td>\n",
       "    </tr>\n",
       "    <tr>\n",
       "      <th>7</th>\n",
       "      <td>3</td>\n",
       "      <td>▀</td>\n",
       "      <td>2</td>\n",
       "    </tr>\n",
       "  </tbody>\n",
       "</table>\n",
       "</div>"
      ],
      "text/plain": [
       "   x-coordinate Character  y-coordinate\n",
       "0             0         █             0\n",
       "1             0         █             1\n",
       "2             0         █             2\n",
       "3             1         ▀             1\n",
       "4             1         ▀             2\n",
       "5             2         ▀             1\n",
       "6             2         ▀             2\n",
       "7             3         ▀             2"
      ]
     },
     "execution_count": 2,
     "metadata": {},
     "output_type": "execute_result"
    }
   ],
   "source": [
    "import pandas as pd\n",
    "sample_link = 'https://docs.google.com/document/d/e/2PACX-1vRMx5YQlZNa3ra8dYYxmv-QIQ3YJe8tbI3kqcuC7lQiZm-CSEznKfN_HYNSpoXcZIV3Y_O3YoUB1ecq/pub'\n",
    "test_link =   'https://docs.google.com/document/d/e/2PACX-1vSZ1vDD85PCR1d5QC2XwbXClC1Kuh3a4u0y3VbTvTFQI53erafhUkGot24ulET8ZRqFSzYoi3pLTGwM/pub'\n",
    "df = pd.read_html(sample_link, header = 0, encoding='utf-8')[0]\n",
    "df"
   ]
  },
  {
   "cell_type": "code",
   "execution_count": 6,
   "id": "eaed5b6f",
   "metadata": {},
   "outputs": [
    {
     "data": {
      "text/plain": [
       "[['█', ' ', ' ', ' '], ['█', '▀', '▀', ' '], ['█', '▀', '▀', '▀']]"
      ]
     },
     "execution_count": 6,
     "metadata": {},
     "output_type": "execute_result"
    }
   ],
   "source": [
    "grid = [[' ' for _ in range(df['x-coordinate'].max() + 1)] for _ in range(df['y-coordinate'].max() + 1)]\n",
    "for i, char, j in zip(df['x-coordinate'], df['Character'], df['y-coordinate']):\n",
    "        grid[j][i] = char\n",
    "\n",
    "grid"
   ]
  },
  {
   "cell_type": "code",
   "execution_count": null,
   "id": "da6a1991",
   "metadata": {},
   "outputs": [
    {
     "name": "stdout",
     "output_type": "stream",
     "text": [
      "   ███████░  ██████████░ ██████░ ██░    ███░   ████████░   ██░           ███░ ████████░   \n",
      " ███░    ██░ ██░           ██░   ██░  ███░   ███░     ███░ ███░   ███░   ██░  ██░     ██░ \n",
      "███░         ██░           ██░   ██░███░     ██░       ██░  ██░  █████░ ███░  ██░      ██░\n",
      "██░          ████████░     ██░   ████░       ██░       ██░  ███░ ██░██░ ██░   ██░      ██░\n",
      "███░         ██░           ██░   ██░███░     ██░       ██░   ██░██░ ██░██░    ██░      ██░\n",
      " ███░    ██░ ██░           ██░   ██░  ███░   ███░     ███░   ████░   ████░    ██░     ██░ \n",
      "   ███████░  ██████████░ ██████░ ██░    ███░   ████████░      ██░     ██░     ████████░   \n"
     ]
    }
   ],
   "source": [
    "# Whole code for testing\n",
    "import pandas as pd\n",
    "\n",
    "sample_link = 'https://docs.google.com/document/d/e/2PACX-1vRMx5YQlZNa3ra8dYYxmv-QIQ3YJe8tbI3kqcuC7lQiZm-CSEznKfN_HYNSpoXcZIV3Y_O3YoUB1ecq/pub'\n",
    "test_link =   'https://docs.google.com/document/d/e/2PACX-1vSZ1vDD85PCR1d5QC2XwbXClC1Kuh3a4u0y3VbTvTFQI53erafhUkGot24ulET8ZRqFSzYoi3pLTGwM/pub'\n",
    "\n",
    "\n",
    "def print_grid(url: str):\n",
    "    df = pd.read_html(url, header = 0, encoding='utf-8')[0]\n",
    "\n",
    "    grid = [[' ' for _ in range(df['x-coordinate'].max() + 1)] for _ in range(df['y-coordinate'].max() + 1)]\n",
    "    \n",
    "    for i, char, j in zip(df['x-coordinate'], df['Character'], df['y-coordinate']):\n",
    "        grid[j][i] = char\n",
    "    \n",
    "    for row in reversed(grid):\n",
    "        for i in range(len(row)):\n",
    "            print(row[i], end='')\n",
    "        print('\\n', end='')\n",
    "\n",
    "\n",
    "print_grid(url=test_link)"
   ]
  },
  {
   "cell_type": "code",
   "execution_count": 5,
   "id": "1f30b54a",
   "metadata": {},
   "outputs": [
    {
     "name": "stdout",
     "output_type": "stream",
     "text": [
      "█▀▀▀\n",
      "█▀▀ \n",
      "█   \n"
     ]
    }
   ],
   "source": [
    "print_grid(url=sample_link)"
   ]
  }
 ],
 "metadata": {
  "kernelspec": {
   "display_name": ".venv",
   "language": "python",
   "name": "python3"
  },
  "language_info": {
   "codemirror_mode": {
    "name": "ipython",
    "version": 3
   },
   "file_extension": ".py",
   "mimetype": "text/x-python",
   "name": "python",
   "nbconvert_exporter": "python",
   "pygments_lexer": "ipython3",
   "version": "3.13.3"
  }
 },
 "nbformat": 4,
 "nbformat_minor": 5
}
